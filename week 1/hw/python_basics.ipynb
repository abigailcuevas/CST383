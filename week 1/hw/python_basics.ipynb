{
  "cells": [
    {
      "cell_type": "markdown",
      "id": "76ab9a59",
      "metadata": {
        "id": "76ab9a59"
      },
      "source": [
        "# Python: playing with Iris data\n",
        "\n",
        "In this notebook we will build our Python skills by playing with the Iris data."
      ]
    },
    {
      "cell_type": "markdown",
      "id": "a7c14acd",
      "metadata": {
        "id": "a7c14acd"
      },
      "source": [
        "### Instructions\n",
        "\n",
        "- Please read the entire notebook carefully.\n",
        "- Problems 1-10 are shown in code cells below.  Each problem begins with #@.\n",
        "- Do not forget about the difference between an 'expression' and a 'statement'.\n",
        "- Do not make changes outside the problem cells.\n",
        "- Run your code from top to bottom before submitting.\n",
        "- Do not modify the file name."
      ]
    },
    {
      "cell_type": "code",
      "execution_count": 13,
      "id": "616af6e8",
      "metadata": {
        "id": "616af6e8",
        "colab": {
          "base_uri": "https://localhost:8080/",
          "height": 36
        },
        "outputId": "6ae34598-a387-4358-a7aa-19f8d1b9c196"
      },
      "outputs": [
        {
          "output_type": "execute_result",
          "data": {
            "text/html": [
              "<script>\n",
              "code_show=true; \n",
              "function code_toggle() {\n",
              " if (code_show){\n",
              " $('div.input').hide();\n",
              " } else {\n",
              " $('div.input').show();\n",
              " }\n",
              " code_show = !code_show\n",
              "} \n",
              "$( document ).ready(code_toggle);\n",
              "</script>\n",
              "<form action=\"javascript:code_toggle()\"><input type=\"submit\" value=\"Click here to display/hide the code.\"></form>"
            ],
            "text/plain": [
              "<IPython.core.display.HTML object>"
            ]
          },
          "metadata": {},
          "execution_count": 13
        }
      ],
      "source": [
        "# code in this cell from: \n",
        "# https://stackoverflow.com/questions/27934885/how-to-hide-code-from-cells-in-ipython-notebook-visualized-with-nbviewer\n",
        "from IPython.display import HTML\n",
        "\n",
        "HTML('''<script>\n",
        "code_show=true; \n",
        "function code_toggle() {\n",
        " if (code_show){\n",
        " $('div.input').hide();\n",
        " } else {\n",
        " $('div.input').show();\n",
        " }\n",
        " code_show = !code_show\n",
        "} \n",
        "$( document ).ready(code_toggle);\n",
        "</script>\n",
        "<form action=\"javascript:code_toggle()\"><input type=\"submit\" value=\"Click here to display/hide the code.\"></form>''')"
      ]
    },
    {
      "cell_type": "markdown",
      "id": "afea79c6",
      "metadata": {
        "id": "afea79c6"
      },
      "source": [
        "### Iris data"
      ]
    },
    {
      "cell_type": "markdown",
      "id": "3509fde6",
      "metadata": {
        "id": "3509fde6"
      },
      "source": [
        "We will work with some random samples from the Iris data set.  \n",
        "\n",
        "We will use a list for each feature of the data, and a list for the Iris classes."
      ]
    },
    {
      "cell_type": "code",
      "execution_count": 14,
      "id": "4280a8b3",
      "metadata": {
        "id": "4280a8b3"
      },
      "outputs": [],
      "source": [
        "# if you think of our data as a table, these are the columns of the table\n",
        "sepal_length = [5.8, 6.0, 5.5, 7.3, 5.0, 6.3, 5.0, 6.7, 6.8, 6.1]\n",
        "sepal_width  = [2.8, 2.2, 4.2, 2.9, 3.4, 3.3, 3.5, 3.1, 2.8, 2.8]\n",
        "petal_length = [5.1, 4.0, 1.4, 6.3, 1.5, 6.0, 1.3, 4.7, 4.8, 4.0]\n",
        "petal_width  = [2.4, 1.0, 0.2, 1.8, 0.2, 2.5, 0.3, 1.5, 1.4, 1.3]\n",
        "\n",
        "# species for each Iris\n",
        "species = ['virginica', 'versicolor', 'setosa', 'virginica', 'setosa',\n",
        "       'virginica', 'setosa', 'versicolor', 'versicolor', 'versicolor']"
      ]
    },
    {
      "cell_type": "code",
      "execution_count": 15,
      "id": "01b11252",
      "metadata": {
        "id": "01b11252"
      },
      "outputs": [],
      "source": [
        "# collect information about the first two flowers in the data\n",
        "features = [sepal_length, sepal_width, petal_length, petal_width]\n",
        "iris_0 = [ f[0] for f in features ]\n",
        "iris_1 = [ f[1] for f in features ]"
      ]
    },
    {
      "cell_type": "code",
      "execution_count": 16,
      "id": "8337e796",
      "metadata": {
        "id": "8337e796",
        "colab": {
          "base_uri": "https://localhost:8080/"
        },
        "outputId": "c7fbd551-f586-4f7b-ac4f-94fb5113403d"
      },
      "outputs": [
        {
          "output_type": "execute_result",
          "data": {
            "text/plain": [
              "10"
            ]
          },
          "metadata": {},
          "execution_count": 16
        }
      ],
      "source": [
        "#@ 1  How many flowers in our sample?\n",
        "#  10\n",
        "#  Write an expression to compute the length of list sepal_length.  Do not use a print statement!\n",
        "\n",
        "# YOUR CODE HERE\n",
        "len(sepal_length)\n"
      ]
    },
    {
      "cell_type": "code",
      "execution_count": 18,
      "id": "aeceed41",
      "metadata": {
        "id": "aeceed41",
        "colab": {
          "base_uri": "https://localhost:8080/"
        },
        "outputId": "bab6d523-84e6-42df-d513-168e4d329f69"
      },
      "outputs": [
        {
          "output_type": "execute_result",
          "data": {
            "text/plain": [
              "2.5"
            ]
          },
          "metadata": {},
          "execution_count": 18
        }
      ],
      "source": [
        "#@ 2  What's the biggest petal width value?\n",
        "#  2.5\n",
        "#  Write an expression to compute the maximum petal_width value.\n",
        "\n",
        "# YOUR CODE HERE\n",
        "max(petal_width)"
      ]
    },
    {
      "cell_type": "code",
      "execution_count": 19,
      "id": "26d7f801",
      "metadata": {
        "id": "26d7f801",
        "colab": {
          "base_uri": "https://localhost:8080/"
        },
        "outputId": "94fab41c-bf2b-4f92-ffeb-bfc6d1492979"
      },
      "outputs": [
        {
          "output_type": "execute_result",
          "data": {
            "text/plain": [
              "5.0"
            ]
          },
          "metadata": {},
          "execution_count": 19
        }
      ],
      "source": [
        "#@ 3  What is the range of petal lengths?\n",
        "#  6.3 - 1.3 = 5.0\n",
        "#  Write an expression to compute the difference between the maximum value \n",
        "#  in petal_length and the minimum value in petal_length.\n",
        "\n",
        "# YOUR CODE HERE\n",
        "max(petal_length) - min(petal_length)"
      ]
    },
    {
      "cell_type": "code",
      "execution_count": 20,
      "id": "5f4cb203",
      "metadata": {
        "id": "5f4cb203",
        "colab": {
          "base_uri": "https://localhost:8080/"
        },
        "outputId": "71c97015-b0b5-4fa3-f7ba-80b7ab0f7e20"
      },
      "outputs": [
        {
          "output_type": "execute_result",
          "data": {
            "text/plain": [
              "3.91"
            ]
          },
          "metadata": {},
          "execution_count": 20
        }
      ],
      "source": [
        "#@ 4  What's the average petal length value?\n",
        "# ( 5.1 + 4.0 + 1.4 + 6.3 + 1.5 + 6.0 + 1.3 + 4.7 + 4.8 + 4.0) / 10 == 3.91\n",
        "#  Write an expression to compute the average value of petal_length.  \n",
        "#  Your answer should be one line.\n",
        "\n",
        "# YOUR CODE HERE\n",
        "sum(petal_length)/len(petal_length)"
      ]
    },
    {
      "cell_type": "code",
      "execution_count": 21,
      "id": "46ab3ed1",
      "metadata": {
        "id": "46ab3ed1",
        "colab": {
          "base_uri": "https://localhost:8080/"
        },
        "outputId": "721dff3e-f005-4cf3-e824-62ee6ce09290"
      },
      "outputs": [
        {
          "output_type": "stream",
          "name": "stdout",
          "text": [
            "[5.8, 2.8, 5.1, 2.4]\n"
          ]
        }
      ],
      "source": [
        "#@ 5  What are the feature values for the first flower in the data set?\n",
        "# 5.8, 2.8, 5.1, 2.4\n",
        "#  Print the feature values for the first iris in the data set.\n",
        "# YOUR CODE HERE\n",
        "print(iris_0)"
      ]
    },
    {
      "cell_type": "code",
      "execution_count": 22,
      "id": "54a3e4be",
      "metadata": {
        "id": "54a3e4be"
      },
      "outputs": [],
      "source": [
        "#@ 6  How much variation is there in petal lengths?\n",
        "#\n",
        "#  To measure the amount of variation in a list of numbers, we can\n",
        "#  compute how \"far away\" the numbers are from the average.\n",
        "# \n",
        "#  Write a function 'variation(x)' that will return the sum of the \n",
        "#  squared differences between the items in x and the average value of x.\n",
        "#  For example, the average value of [1,3,5] is 3, so \n",
        "#  variation([1,3,5]) should be 8, because (1-3)**2, (3-3)**2, and (5-3)**2 is 8\n",
        "\n",
        "def variation(x):\n",
        "    \"\"\" Return the sum of the squared differences between between\n",
        "    the values in x and the average value of x.\n",
        "    \"\"\"\n",
        "    \n",
        "    # YOUR CODE HERE\n",
        "    # Don't forget the return statement\n",
        "\n",
        "    total = 0;\n",
        "    aver = sum(x)/len(x)\n",
        "\n",
        "    for num in x:\n",
        "      total += (num - aver) **2\n",
        "\n",
        "    return total"
      ]
    },
    {
      "cell_type": "markdown",
      "id": "a5a1c378",
      "metadata": {
        "id": "a5a1c378"
      },
      "source": [
        "What is the variation in petal length?"
      ]
    },
    {
      "cell_type": "code",
      "execution_count": 23,
      "id": "1603c5c5",
      "metadata": {
        "id": "1603c5c5",
        "colab": {
          "base_uri": "https://localhost:8080/"
        },
        "outputId": "2073e319-cbc5-4666-98a4-159ae8f56f12"
      },
      "outputs": [
        {
          "output_type": "stream",
          "name": "stdout",
          "text": [
            "Variation in petal length: 31.85\n"
          ]
        }
      ],
      "source": [
        "print('Variation in petal length: {:.2f}'.format(variation(petal_length)))"
      ]
    },
    {
      "cell_type": "code",
      "execution_count": 24,
      "id": "c630b212",
      "metadata": {
        "id": "c630b212",
        "colab": {
          "base_uri": "https://localhost:8080/"
        },
        "outputId": "9e3b50f3-c551-40da-f10b-bd9d5303a997"
      },
      "outputs": [
        {
          "output_type": "stream",
          "name": "stdout",
          "text": [
            "[6.05, 3.1, 3.91, 1.26]\n"
          ]
        }
      ],
      "source": [
        "#@ 7  What are the average values for each of the features?\n",
        "#6.05, 3.1, 3.91,1.26\n",
        "#  Write an expression that will give a list contain the average value for each of the four features.  \n",
        "#  Hint: use variable 'features', which is defined in an earlier cell.\n",
        "#  Your answer should be only one line.  Hint: use a list comprehension.\n",
        "\n",
        "# YOUR CODE HERE\n",
        "print([round((sum(i)/len(i)), 2) for i in features])"
      ]
    },
    {
      "cell_type": "code",
      "execution_count": 25,
      "id": "d7e809bd",
      "metadata": {
        "id": "d7e809bd",
        "colab": {
          "base_uri": "https://localhost:8080/"
        },
        "outputId": "fbecb4d9-32a6-414e-d2bc-bd8174ebf982"
      },
      "outputs": [
        {
          "output_type": "stream",
          "name": "stdout",
          "text": [
            "['vi', 've', 'se', 'vi', 'se', 'vi', 'se', 've', 've', 've']\n"
          ]
        }
      ],
      "source": [
        "#@ 8  The species names are pretty long.  \n",
        "#\n",
        "# Write an expression that will give a list containing the \n",
        "#  first two letters of every string in list 'species'.\n",
        "#  Again, your answer should be only one line.\n",
        "\n",
        "# YOUR CODE HERE\n",
        "print([i[:2] for i in species])"
      ]
    },
    {
      "cell_type": "code",
      "execution_count": 26,
      "id": "6ece95de",
      "metadata": {
        "id": "6ece95de",
        "colab": {
          "base_uri": "https://localhost:8080/"
        },
        "outputId": "b7cc6e10-c29b-4983-dc97-8c1932e5aa2d"
      },
      "outputs": [
        {
          "output_type": "stream",
          "name": "stdout",
          "text": [
            "[12.24, 4.0, 0.28, 11.34, 0.3, 15.0, 0.39, 7.05, 6.72, 5.2]\n"
          ]
        }
      ],
      "source": [
        "#@ 9  Do certain Iris species have larger petals than other species?  \n",
        "# 12.24, 4.0, 0.28, 11.34, 0.3, 15.0, 0.39, 7.05, 6.72, 5.2\n",
        "#  Write an expression that will give the petal width times petal length for each flower.\n",
        "#  Your answer should be only one line.\n",
        "\n",
        "# YOUR CODE HERE\n",
        "print([ round(petal_length[i] * petal_width[i], 2)  for i in range(len(petal_length))])"
      ]
    },
    {
      "cell_type": "code",
      "execution_count": 27,
      "id": "a441a40d",
      "metadata": {
        "id": "a441a40d"
      },
      "outputs": [],
      "source": [
        "#@ 10 Does the product of petal length times petal width give us a good way \n",
        "#  to figure out the species of a flower?\n",
        "#  What do you think?  You will need to look at the species corresponding to each\n",
        "#  value in the list above.\n",
        "#  (Enter you thoughts in the text cell below.)\n"
      ]
    },
    {
      "cell_type": "markdown",
      "id": "403fa6b5",
      "metadata": {
        "id": "403fa6b5"
      },
      "source": [
        "I think multiplying the petals length and width does not give us a good way to figure out which species of flower it is. Looking at the numbers from the question above, it seems that some of the numbers are too similar to one another, like 0.28, 0.3, and 0.39. The similarites in number could get you the wrong species of flower. If you were to get a flower that you didn't know it species, and tried to multiply the petals length and width, and tried to match it to some of the numbers above, you might get the wrong species."
      ]
    }
  ],
  "metadata": {
    "kernelspec": {
      "display_name": "Python 3 (ipykernel)",
      "language": "python",
      "name": "python3"
    },
    "language_info": {
      "codemirror_mode": {
        "name": "ipython",
        "version": 3
      },
      "file_extension": ".py",
      "mimetype": "text/x-python",
      "name": "python",
      "nbconvert_exporter": "python",
      "pygments_lexer": "ipython3",
      "version": "3.8.8"
    },
    "colab": {
      "name": "python-basics.ipynb",
      "provenance": []
    }
  },
  "nbformat": 4,
  "nbformat_minor": 5
}