{
 "cells": [
  {
   "cell_type": "markdown",
   "id": "76ab9a59",
   "metadata": {},
   "source": [
    "# Python 1 lab: lists, strings, and printing (solutions)"
   ]
  },
  {
   "cell_type": "markdown",
   "id": "bfbdbd92",
   "metadata": {},
   "source": [
    "Put your answer in the cells below the problems.\n",
    "\n",
    "Please work with your teammates."
   ]
  },
  {
   "cell_type": "markdown",
   "id": "17be7694",
   "metadata": {},
   "source": [
    "### Lists"
   ]
  },
  {
   "cell_type": "markdown",
   "id": "fbd20f8a",
   "metadata": {},
   "source": [
    "Create a list containing values 1,2,3 and assign it to variable x."
   ]
  },
  {
   "cell_type": "code",
   "execution_count": 1,
   "id": "8337e796",
   "metadata": {},
   "outputs": [],
   "source": [
    "x = [1,2,3]"
   ]
  },
  {
   "cell_type": "markdown",
   "id": "d00cd761",
   "metadata": {},
   "source": [
    "Print the list x."
   ]
  },
  {
   "cell_type": "code",
   "execution_count": 2,
   "id": "21b553f0",
   "metadata": {},
   "outputs": [
    {
     "name": "stdout",
     "output_type": "stream",
     "text": [
      "[1, 2, 3]\n"
     ]
    }
   ],
   "source": [
    "print(x)"
   ]
  },
  {
   "cell_type": "markdown",
   "id": "ee35fe67",
   "metadata": {},
   "source": [
    "Write an expression to get the first item of x.  (Do not use a print statement.)"
   ]
  },
  {
   "cell_type": "code",
   "execution_count": 3,
   "id": "487d1c47",
   "metadata": {},
   "outputs": [
    {
     "data": {
      "text/plain": [
       "1"
      ]
     },
     "execution_count": 3,
     "metadata": {},
     "output_type": "execute_result"
    }
   ],
   "source": [
    "x[0]"
   ]
  },
  {
   "cell_type": "markdown",
   "id": "f7e7bb47",
   "metadata": {},
   "source": [
    "Write an expression to get the last item of x."
   ]
  },
  {
   "cell_type": "code",
   "execution_count": 4,
   "id": "254cdd6b",
   "metadata": {},
   "outputs": [
    {
     "data": {
      "text/plain": [
       "3"
      ]
     },
     "execution_count": 4,
     "metadata": {},
     "output_type": "execute_result"
    }
   ],
   "source": [
    "x[-1]"
   ]
  },
  {
   "cell_type": "markdown",
   "id": "bab8be6c",
   "metadata": {},
   "source": [
    "Write an expression to get the length of list x.  Again, don't use print()."
   ]
  },
  {
   "cell_type": "code",
   "execution_count": 5,
   "id": "2a1175fe",
   "metadata": {},
   "outputs": [
    {
     "data": {
      "text/plain": [
       "3"
      ]
     },
     "execution_count": 5,
     "metadata": {},
     "output_type": "execute_result"
    }
   ],
   "source": [
    "len(x)"
   ]
  },
  {
   "cell_type": "markdown",
   "id": "00941fe1",
   "metadata": {},
   "source": [
    "Write a statement to add the value 'foo' to the end of list x."
   ]
  },
  {
   "cell_type": "code",
   "execution_count": 6,
   "id": "58f88de4",
   "metadata": {},
   "outputs": [],
   "source": [
    "x.append('foo')"
   ]
  },
  {
   "cell_type": "markdown",
   "id": "ab6f5007",
   "metadata": {},
   "source": [
    "Print x."
   ]
  },
  {
   "cell_type": "code",
   "execution_count": 7,
   "id": "878ccf70",
   "metadata": {},
   "outputs": [
    {
     "name": "stdout",
     "output_type": "stream",
     "text": [
      "[1, 2, 3, 'foo']\n"
     ]
    }
   ],
   "source": [
    "print(x)"
   ]
  },
  {
   "cell_type": "markdown",
   "id": "e7379af8",
   "metadata": {},
   "source": [
    "Write an expression to get the type of the last item of x."
   ]
  },
  {
   "cell_type": "code",
   "execution_count": 8,
   "id": "ebe92095",
   "metadata": {},
   "outputs": [
    {
     "data": {
      "text/plain": [
       "str"
      ]
     },
     "execution_count": 8,
     "metadata": {},
     "output_type": "execute_result"
    }
   ],
   "source": [
    "type(x[-1])"
   ]
  },
  {
   "cell_type": "markdown",
   "id": "9271440c",
   "metadata": {},
   "source": [
    "Write a statement to remove 'foo' from the list."
   ]
  },
  {
   "cell_type": "code",
   "execution_count": 9,
   "id": "f8266963",
   "metadata": {},
   "outputs": [],
   "source": [
    "x.remove('foo')"
   ]
  },
  {
   "cell_type": "markdown",
   "id": "3ea469e7",
   "metadata": {},
   "source": [
    "Print x."
   ]
  },
  {
   "cell_type": "code",
   "execution_count": 10,
   "id": "9c15f604",
   "metadata": {},
   "outputs": [
    {
     "name": "stdout",
     "output_type": "stream",
     "text": [
      "[1, 2, 3]\n"
     ]
    }
   ],
   "source": [
    "print(x)"
   ]
  },
  {
   "cell_type": "markdown",
   "id": "54492b30",
   "metadata": {},
   "source": [
    "### Strings"
   ]
  },
  {
   "cell_type": "markdown",
   "id": "a15e1a88",
   "metadata": {},
   "source": [
    "Assign the string \"housing\" to variable s."
   ]
  },
  {
   "cell_type": "code",
   "execution_count": 11,
   "id": "c6320580",
   "metadata": {},
   "outputs": [],
   "source": [
    "s = 'housing'"
   ]
  },
  {
   "cell_type": "markdown",
   "id": "ba723e2f",
   "metadata": {},
   "source": [
    "Print variable s."
   ]
  },
  {
   "cell_type": "code",
   "execution_count": 12,
   "id": "afbbc4bf",
   "metadata": {},
   "outputs": [
    {
     "name": "stdout",
     "output_type": "stream",
     "text": [
      "housing\n"
     ]
    }
   ],
   "source": [
    "print(s)"
   ]
  },
  {
   "cell_type": "markdown",
   "id": "f43bae15",
   "metadata": {},
   "source": [
    "Write an expression to get the length of string s."
   ]
  },
  {
   "cell_type": "code",
   "execution_count": 13,
   "id": "0fcbf019",
   "metadata": {},
   "outputs": [
    {
     "data": {
      "text/plain": [
       "7"
      ]
     },
     "execution_count": 13,
     "metadata": {},
     "output_type": "execute_result"
    }
   ],
   "source": [
    "len(s)"
   ]
  },
  {
   "cell_type": "markdown",
   "id": "36eeb61e",
   "metadata": {},
   "source": [
    "Write an expression to get the first letter of s."
   ]
  },
  {
   "cell_type": "code",
   "execution_count": 14,
   "id": "7b4ed72e",
   "metadata": {},
   "outputs": [
    {
     "data": {
      "text/plain": [
       "'h'"
      ]
     },
     "execution_count": 14,
     "metadata": {},
     "output_type": "execute_result"
    }
   ],
   "source": [
    "s[0]"
   ]
  },
  {
   "cell_type": "markdown",
   "id": "9f988adb",
   "metadata": {},
   "source": [
    "Write a statement to add \" matters\" (note the space at the beginning) to the end of s."
   ]
  },
  {
   "cell_type": "code",
   "execution_count": 15,
   "id": "2777c852",
   "metadata": {},
   "outputs": [],
   "source": [
    "s += ' matters'"
   ]
  },
  {
   "cell_type": "markdown",
   "id": "fe0109ab",
   "metadata": {},
   "source": [
    "Print s."
   ]
  },
  {
   "cell_type": "code",
   "execution_count": 16,
   "id": "78b3e1e6",
   "metadata": {},
   "outputs": [
    {
     "name": "stdout",
     "output_type": "stream",
     "text": [
      "housing matters\n"
     ]
    }
   ],
   "source": [
    "print(s)"
   ]
  },
  {
   "cell_type": "markdown",
   "id": "70323ecc",
   "metadata": {},
   "source": [
    "### Printing"
   ]
  },
  {
   "cell_type": "markdown",
   "id": "b40474ec",
   "metadata": {},
   "source": [
    "Assign 1.5 to variable x."
   ]
  },
  {
   "cell_type": "code",
   "execution_count": 17,
   "id": "9fe69ccc",
   "metadata": {},
   "outputs": [],
   "source": [
    "x = 1.5"
   ]
  },
  {
   "cell_type": "markdown",
   "id": "9bfa49a5",
   "metadata": {},
   "source": [
    "Print the value of x in the form \"x = 1.5\".  Use format() and the variable x."
   ]
  },
  {
   "cell_type": "code",
   "execution_count": 18,
   "id": "7711719a",
   "metadata": {},
   "outputs": [
    {
     "name": "stdout",
     "output_type": "stream",
     "text": [
      "x = 1.5\n"
     ]
    }
   ],
   "source": [
    "print('x = {}'.format(x))"
   ]
  },
  {
   "cell_type": "markdown",
   "id": "7695f2cb",
   "metadata": {},
   "source": [
    "Write an expression to take x to the 4th power."
   ]
  },
  {
   "cell_type": "code",
   "execution_count": 19,
   "id": "b503a2f2",
   "metadata": {},
   "outputs": [
    {
     "data": {
      "text/plain": [
       "5.0625"
      ]
     },
     "execution_count": 19,
     "metadata": {},
     "output_type": "execute_result"
    }
   ],
   "source": [
    "x**4"
   ]
  },
  {
   "cell_type": "markdown",
   "id": "ab7916bc",
   "metadata": {},
   "source": [
    "Print this expression, using 2 digits to the right of the decimal point.  Use format and your answer to the last problem."
   ]
  },
  {
   "cell_type": "code",
   "execution_count": 20,
   "id": "019820a7",
   "metadata": {},
   "outputs": [
    {
     "name": "stdout",
     "output_type": "stream",
     "text": [
      "5.06\n"
     ]
    }
   ],
   "source": [
    "print('{:.2f}'.format(x**4))"
   ]
  },
  {
   "cell_type": "markdown",
   "id": "dfea540b",
   "metadata": {},
   "source": [
    "Print it again, this time with 5 digits to the right of the decimal point."
   ]
  },
  {
   "cell_type": "code",
   "execution_count": 21,
   "id": "d04a246f",
   "metadata": {},
   "outputs": [
    {
     "name": "stdout",
     "output_type": "stream",
     "text": [
      "5.06250\n"
     ]
    }
   ],
   "source": [
    "print('{:.5f}'.format(x**4))"
   ]
  },
  {
   "cell_type": "markdown",
   "id": "fb3dd203",
   "metadata": {},
   "source": [
    "Print it again with 2 digits to the right of the decimal point, but this time use Python function round().  Function round() takes two arguments: the value, and the number of significant digits to the right of the decimal point."
   ]
  },
  {
   "cell_type": "code",
   "execution_count": 22,
   "id": "1fa26f3a",
   "metadata": {},
   "outputs": [
    {
     "name": "stdout",
     "output_type": "stream",
     "text": [
      "5.06\n"
     ]
    }
   ],
   "source": [
    "print(round(x**4, 2))"
   ]
  }
 ],
 "metadata": {
  "kernelspec": {
   "display_name": "Python 3 (ipykernel)",
   "language": "python",
   "name": "python3"
  },
  "language_info": {
   "codemirror_mode": {
    "name": "ipython",
    "version": 3
   },
   "file_extension": ".py",
   "mimetype": "text/x-python",
   "name": "python",
   "nbconvert_exporter": "python",
   "pygments_lexer": "ipython3",
   "version": "3.8.8"
  }
 },
 "nbformat": 4,
 "nbformat_minor": 5
}
